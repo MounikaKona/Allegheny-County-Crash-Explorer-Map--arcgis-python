{
 "cells": [
  {
   "cell_type": "code",
   "execution_count": 6,
   "id": "049af001",
   "metadata": {},
   "outputs": [],
   "source": [
    "from arcgis.gis import GIS\n",
    "from arcgis.mapping import WebMap\n",
    "from arcgis.features import FeatureSet\n",
    "import pandas as pd"
   ]
  },
  {
   "cell_type": "code",
   "execution_count": 7,
   "id": "36cead98",
   "metadata": {},
   "outputs": [],
   "source": [
    "# Assuming crash_data is your DataFrame\n",
    "crash_data = pd.read_csv(\"C:\\\\Users\\\\Eswar\\\\Documents\\\\Latha\\\\GIS_python\\\\alleghenycountycrashdata_1.csv\")\n",
    "crash_data = crash_data.dropna(subset=['DEC_LAT', 'DEC_LONG'])"
   ]
  },
  {
   "cell_type": "code",
   "execution_count": 8,
   "id": "a2eff83a",
   "metadata": {},
   "outputs": [],
   "source": [
    "crash_data.columns\n",
    "gis= GIS()"
   ]
  },
  {
   "cell_type": "code",
   "execution_count": 9,
   "id": "3d21a0ff",
   "metadata": {},
   "outputs": [
    {
     "name": "stdout",
     "output_type": "stream",
     "text": [
      "Severity Level 0: 12076 points\n"
     ]
    },
    {
     "name": "stderr",
     "output_type": "stream",
     "text": [
      "C:\\Users\\Eswar\\anaconda3\\lib\\site-packages\\arcgis\\features\\geo\\_accessor.py:1531: SettingWithCopyWarning: \n",
      "A value is trying to be set on a copy of a slice from a DataFrame.\n",
      "Try using .loc[row_indexer,col_indexer] = value instead\n",
      "\n",
      "See the caveats in the documentation: https://pandas.pydata.org/pandas-docs/stable/user_guide/indexing.html#returning-a-view-versus-a-copy\n",
      "  self._data[col] = array\n"
     ]
    },
    {
     "name": "stdout",
     "output_type": "stream",
     "text": [
      "Severity Level 3: 4339 points\n"
     ]
    },
    {
     "name": "stderr",
     "output_type": "stream",
     "text": [
      "C:\\Users\\Eswar\\anaconda3\\lib\\site-packages\\arcgis\\features\\geo\\_accessor.py:1531: SettingWithCopyWarning: \n",
      "A value is trying to be set on a copy of a slice from a DataFrame.\n",
      "Try using .loc[row_indexer,col_indexer] = value instead\n",
      "\n",
      "See the caveats in the documentation: https://pandas.pydata.org/pandas-docs/stable/user_guide/indexing.html#returning-a-view-versus-a-copy\n",
      "  self._data[col] = array\n"
     ]
    },
    {
     "name": "stdout",
     "output_type": "stream",
     "text": [
      "Severity Level 4: 1519 points\n"
     ]
    },
    {
     "name": "stderr",
     "output_type": "stream",
     "text": [
      "C:\\Users\\Eswar\\anaconda3\\lib\\site-packages\\arcgis\\features\\geo\\_accessor.py:1531: SettingWithCopyWarning: \n",
      "A value is trying to be set on a copy of a slice from a DataFrame.\n",
      "Try using .loc[row_indexer,col_indexer] = value instead\n",
      "\n",
      "See the caveats in the documentation: https://pandas.pydata.org/pandas-docs/stable/user_guide/indexing.html#returning-a-view-versus-a-copy\n",
      "  self._data[col] = array\n"
     ]
    },
    {
     "name": "stdout",
     "output_type": "stream",
     "text": [
      "Severity Level 9: 1117 points\n"
     ]
    },
    {
     "name": "stderr",
     "output_type": "stream",
     "text": [
      "C:\\Users\\Eswar\\anaconda3\\lib\\site-packages\\arcgis\\features\\geo\\_accessor.py:1531: SettingWithCopyWarning: \n",
      "A value is trying to be set on a copy of a slice from a DataFrame.\n",
      "Try using .loc[row_indexer,col_indexer] = value instead\n",
      "\n",
      "See the caveats in the documentation: https://pandas.pydata.org/pandas-docs/stable/user_guide/indexing.html#returning-a-view-versus-a-copy\n",
      "  self._data[col] = array\n"
     ]
    }
   ],
   "source": [
    "# Initialize a WebMap\n",
    "webmap = WebMap()\n",
    "\n",
    "# Define severity colors\n",
    "severity_colors = {\n",
    "    0: {\"type\": \"esriSMS\", \"style\": \"esriSMSCircle\", \"color\": [255, 0, 0, 128], \"size\": 10},\n",
    "    3: {\"type\": \"esriSMS\", \"style\": \"esriSMSCircle\", \"color\": [0, 255, 0, 128], \"size\": 10},\n",
    "    4: {\"type\": \"esriSMS\", \"style\": \"esriSMSCircle\", \"color\": [0, 0, 255, 128], \"size\": 10},\n",
    "    9: {\"type\": \"esriSMS\", \"style\": \"esriSMSCircle\", \"color\": [255, 192, 203, 128], \"size\": 10},\n",
    "}\n",
    "\n",
    "# Assuming crash_data is your original data source\n",
    "crash_sdf = pd.DataFrame.spatial.from_xy(crash_data, x_column='DEC_LONG', y_column='DEC_LAT', sr=4326)\n",
    "\n",
    "# Initialize an empty list to store unique value infos\n",
    "unique_value_infos = []\n",
    "\n",
    "# Iterate through severity levels\n",
    "for severity_level, symbol in severity_colors.items():\n",
    "    filtered_data = crash_sdf[crash_sdf['MAX_SEVERITY_LEVEL'] == severity_level]\n",
    "    \n",
    "    # Print number of points for each severity level (optional)\n",
    "    print(f\"Severity Level {severity_level}: {len(filtered_data)} points\")\n",
    "    \n",
    "    # Convert filtered SpatialDataFrame to FeatureSet\n",
    "    feature_set = FeatureSet.from_dataframe(filtered_data)\n",
    "    \n",
    "    render = {\n",
    "        \"type\": \"simple\",\n",
    "        \"symbol\": severity_colors.get(severity_level, {})\n",
    "    }\n",
    "    \n",
    "    webmap.add_layer(feature_set, {\"renderer\":render})\n",
    " "
   ]
  },
  {
   "cell_type": "code",
   "execution_count": 10,
   "id": "c5fbb2d3",
   "metadata": {},
   "outputs": [
    {
     "data": {
      "application/vnd.jupyter.widget-view+json": {
       "model_id": "9ee431cc67c440e0b6c642909d210791",
       "version_major": 2,
       "version_minor": 0
      },
      "text/plain": [
       "MapView(hide_mode_switch=True, layout=Layout(height='400px', width='100%'))"
      ]
     },
     "metadata": {},
     "output_type": "display_data"
    },
    {
     "data": {
      "text/html": [
       "<div class=\"map-static-img-preview-fc67e9ad-4bf0-44f3-a26c-193137ea8059\"><img src=\"\"></img></div>"
      ],
      "text/plain": [
       "<IPython.core.display.HTML object>"
      ]
     },
     "metadata": {},
     "output_type": "display_data"
    },
    {
     "data": {
      "text/html": [
       "<div class=\"map-html-embed-preview-fc67e9ad-4bf0-44f3-a26c-193137ea8059\"></div>"
      ],
      "text/plain": [
       "<IPython.core.display.HTML object>"
      ]
     },
     "metadata": {},
     "output_type": "display_data"
    }
   ],
   "source": [
    "webmap"
   ]
  },
  {
   "cell_type": "code",
   "execution_count": null,
   "id": "59c8729f",
   "metadata": {},
   "outputs": [],
   "source": []
  }
 ],
 "metadata": {
  "kernelspec": {
   "display_name": "Python 3 (ipykernel)",
   "language": "python",
   "name": "python3"
  },
  "language_info": {
   "codemirror_mode": {
    "name": "ipython",
    "version": 3
   },
   "file_extension": ".py",
   "mimetype": "text/x-python",
   "name": "python",
   "nbconvert_exporter": "python",
   "pygments_lexer": "ipython3",
   "version": "3.10.9"
  }
 },
 "nbformat": 4,
 "nbformat_minor": 5
}
